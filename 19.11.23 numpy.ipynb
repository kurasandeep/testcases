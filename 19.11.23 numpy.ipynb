{
 "cells": [
  {
   "cell_type": "code",
   "execution_count": 2,
   "id": "63568e32",
   "metadata": {},
   "outputs": [],
   "source": [
    "import numpy as np"
   ]
  },
  {
   "cell_type": "markdown",
   "id": "5179d977",
   "metadata": {},
   "source": [
    "1-D Array"
   ]
  },
  {
   "cell_type": "code",
   "execution_count": 3,
   "id": "cf0a1a15",
   "metadata": {},
   "outputs": [
    {
     "data": {
      "text/plain": [
       "list"
      ]
     },
     "execution_count": 3,
     "metadata": {},
     "output_type": "execute_result"
    }
   ],
   "source": [
    "list=[8,9,7,6]\n",
    "type(list)"
   ]
  },
  {
   "cell_type": "code",
   "execution_count": 8,
   "id": "2a8fd0c7",
   "metadata": {},
   "outputs": [
    {
     "data": {
      "text/plain": [
       "numpy.ndarray"
      ]
     },
     "execution_count": 8,
     "metadata": {},
     "output_type": "execute_result"
    }
   ],
   "source": [
    "nump=np.array(list)\n",
    "type(nump)"
   ]
  },
  {
   "cell_type": "markdown",
   "id": "c0b52fa3",
   "metadata": {},
   "source": [
    "3-D Array"
   ]
  },
  {
   "cell_type": "code",
   "execution_count": 17,
   "id": "6c89fe87",
   "metadata": {},
   "outputs": [
    {
     "data": {
      "text/plain": [
       "array([[[1, 2, 3],\n",
       "        [2, 3, 4]],\n",
       "\n",
       "       [[4, 5, 6],\n",
       "        [7, 8, 9]]])"
      ]
     },
     "execution_count": 17,
     "metadata": {},
     "output_type": "execute_result"
    }
   ],
   "source": [
    "three_D=[[[1,2,3],[2,3,4]],[[4,5,6],[7,8,9]]]\n",
    "b=np.array(three_D)\n",
    "b"
   ]
  },
  {
   "cell_type": "code",
   "execution_count": 19,
   "id": "70ec8a07",
   "metadata": {},
   "outputs": [
    {
     "data": {
      "text/plain": [
       "3"
      ]
     },
     "execution_count": 19,
     "metadata": {},
     "output_type": "execute_result"
    }
   ],
   "source": [
    "b.ndim"
   ]
  },
  {
   "cell_type": "code",
   "execution_count": 20,
   "id": "d38cce82",
   "metadata": {},
   "outputs": [
    {
     "data": {
      "text/plain": [
       "(2, 2, 3)"
      ]
     },
     "execution_count": 20,
     "metadata": {},
     "output_type": "execute_result"
    }
   ],
   "source": [
    "b.shape"
   ]
  },
  {
   "cell_type": "code",
   "execution_count": 21,
   "id": "c2273e80",
   "metadata": {},
   "outputs": [
    {
     "data": {
      "text/plain": [
       "array([[0., 0., 0., 0.],\n",
       "       [0., 0., 0., 0.]])"
      ]
     },
     "execution_count": 21,
     "metadata": {},
     "output_type": "execute_result"
    }
   ],
   "source": [
    "z=np.zeros((2,4))\n",
    "z"
   ]
  },
  {
   "cell_type": "code",
   "execution_count": 22,
   "id": "b681fab6",
   "metadata": {},
   "outputs": [
    {
     "data": {
      "text/plain": [
       "array([[1., 0., 0., 0., 0.],\n",
       "       [0., 1., 0., 0., 0.],\n",
       "       [0., 0., 1., 0., 0.],\n",
       "       [0., 0., 0., 1., 0.],\n",
       "       [0., 0., 0., 0., 1.]])"
      ]
     },
     "execution_count": 22,
     "metadata": {},
     "output_type": "execute_result"
    }
   ],
   "source": [
    "a=np.eye(5)\n",
    "a"
   ]
  },
  {
   "cell_type": "code",
   "execution_count": 26,
   "id": "b0793bdf",
   "metadata": {},
   "outputs": [
    {
     "data": {
      "text/plain": [
       "array([ 0. ,  7.5, 15. , 22.5, 30. ])"
      ]
     },
     "execution_count": 26,
     "metadata": {},
     "output_type": "execute_result"
    }
   ],
   "source": [
    "l=np.linspace(0,30,5)\n",
    "l"
   ]
  },
  {
   "cell_type": "markdown",
   "id": "71f8e12f",
   "metadata": {},
   "source": [
    "2-D Array"
   ]
  },
  {
   "cell_type": "code",
   "execution_count": 10,
   "id": "c1d81a52",
   "metadata": {},
   "outputs": [
    {
     "data": {
      "text/plain": [
       "array([[1, 2, 3],\n",
       "       [2, 3, 4],\n",
       "       [3, 4, 5]])"
      ]
     },
     "execution_count": 10,
     "metadata": {},
     "output_type": "execute_result"
    }
   ],
   "source": [
    "two_D=[[1,2,3],[2,3,4],[3,4,5]]\n",
    "a=np.array(two_D)\n",
    "a"
   ]
  },
  {
   "cell_type": "code",
   "execution_count": 11,
   "id": "342860ef",
   "metadata": {},
   "outputs": [
    {
     "data": {
      "text/plain": [
       "2"
      ]
     },
     "execution_count": 11,
     "metadata": {},
     "output_type": "execute_result"
    }
   ],
   "source": [
    "a.ndim"
   ]
  },
  {
   "cell_type": "markdown",
   "id": "98a7b278",
   "metadata": {},
   "source": [
    "a.shape"
   ]
  },
  {
   "cell_type": "markdown",
   "id": "95228115",
   "metadata": {},
   "source": [
    "Random numbers"
   ]
  },
  {
   "cell_type": "code",
   "execution_count": 27,
   "id": "08df9031",
   "metadata": {},
   "outputs": [
    {
     "data": {
      "text/plain": [
       "array([[5.47182363e-01, 3.97995832e-01, 9.60011154e-01],\n",
       "       [4.69059028e-01, 3.36640105e-01, 6.12321554e-01],\n",
       "       [3.28319841e-01, 3.13831473e-01, 9.40566712e-01],\n",
       "       [9.16950368e-01, 7.90147003e-04, 9.90262779e-01],\n",
       "       [9.01473443e-01, 8.25650578e-01, 4.51882863e-01]])"
      ]
     },
     "execution_count": 27,
     "metadata": {},
     "output_type": "execute_result"
    }
   ],
   "source": [
    "np.random.rand(5,3)"
   ]
  },
  {
   "cell_type": "code",
   "execution_count": 29,
   "id": "87ea618f",
   "metadata": {},
   "outputs": [
    {
     "data": {
      "text/plain": [
       "array([[ 1, 17, 12,  7],\n",
       "       [ 1,  2,  3, 12],\n",
       "       [ 5,  3,  6,  7]])"
      ]
     },
     "execution_count": 29,
     "metadata": {},
     "output_type": "execute_result"
    }
   ],
   "source": [
    "r=np.random.randint(1,18,(3,4))\n",
    "r"
   ]
  },
  {
   "cell_type": "code",
   "execution_count": 30,
   "id": "9c4ac750",
   "metadata": {},
   "outputs": [
    {
     "data": {
      "text/plain": [
       "array([[ 0.48072562, -0.08871622,  0.24635689],\n",
       "       [ 0.71914892, -1.0686306 ,  0.92626384],\n",
       "       [ 1.67082091,  0.03773898, -2.24539387],\n",
       "       [ 0.17691674,  0.44658875,  1.80408526],\n",
       "       [-0.28067837, -0.85054404,  0.45928285],\n",
       "       [-0.40073892,  0.3681064 , -0.15896047]])"
      ]
     },
     "execution_count": 30,
     "metadata": {},
     "output_type": "execute_result"
    }
   ],
   "source": [
    "np.random.randn(6,3)"
   ]
  },
  {
   "cell_type": "code",
   "execution_count": 31,
   "id": "4f5364c7",
   "metadata": {},
   "outputs": [
    {
     "data": {
      "text/plain": [
       "array([[ 1, 17, 12],\n",
       "       [ 1,  2,  3],\n",
       "       [ 5,  3,  6]])"
      ]
     },
     "execution_count": 31,
     "metadata": {},
     "output_type": "execute_result"
    }
   ],
   "source": [
    "r[0:3,0:3]"
   ]
  },
  {
   "cell_type": "code",
   "execution_count": 34,
   "id": "fd7c3107",
   "metadata": {},
   "outputs": [
    {
     "data": {
      "text/plain": [
       "array([[ 1, 17, 12,  7],\n",
       "       [ 1,  2,  3, 12],\n",
       "       [ 5,  3,  6,  7]])"
      ]
     },
     "execution_count": 34,
     "metadata": {},
     "output_type": "execute_result"
    }
   ],
   "source": [
    "r.reshape(3,4)"
   ]
  },
  {
   "cell_type": "code",
   "execution_count": 38,
   "id": "7584d3fe",
   "metadata": {},
   "outputs": [
    {
     "data": {
      "text/plain": [
       "array([5, 3, 6, 7])"
      ]
     },
     "execution_count": 38,
     "metadata": {},
     "output_type": "execute_result"
    }
   ],
   "source": [
    "r[2]"
   ]
  },
  {
   "cell_type": "code",
   "execution_count": 40,
   "id": "4635526f",
   "metadata": {},
   "outputs": [
    {
     "data": {
      "text/plain": [
       "21"
      ]
     },
     "execution_count": 40,
     "metadata": {},
     "output_type": "execute_result"
    }
   ],
   "source": [
    "np.sum(r[2])"
   ]
  },
  {
   "cell_type": "code",
   "execution_count": 41,
   "id": "f178d1ef",
   "metadata": {},
   "outputs": [
    {
     "data": {
      "text/plain": [
       "3"
      ]
     },
     "execution_count": 41,
     "metadata": {},
     "output_type": "execute_result"
    }
   ],
   "source": [
    "np.min(r[2])"
   ]
  },
  {
   "cell_type": "code",
   "execution_count": 44,
   "id": "736082d1",
   "metadata": {},
   "outputs": [
    {
     "data": {
      "text/plain": [
       "3"
      ]
     },
     "execution_count": 44,
     "metadata": {},
     "output_type": "execute_result"
    }
   ],
   "source": [
    "r[2].argmax()#shows the maximum value's index."
   ]
  },
  {
   "cell_type": "code",
   "execution_count": 46,
   "id": "dde450a2",
   "metadata": {},
   "outputs": [
    {
     "data": {
      "text/plain": [
       "1"
      ]
     },
     "execution_count": 46,
     "metadata": {},
     "output_type": "execute_result"
    }
   ],
   "source": [
    "r[2].argmin()#shows the minimum value's index"
   ]
  },
  {
   "cell_type": "code",
   "execution_count": 47,
   "id": "974d745f",
   "metadata": {},
   "outputs": [
    {
     "data": {
      "text/plain": [
       "array([[2866, 9355],\n",
       "       [2291, 1514],\n",
       "       [1883, 4560],\n",
       "       [ 399, 7513],\n",
       "       [9469, 3893],\n",
       "       [5556, 7385],\n",
       "       [7797, 9977],\n",
       "       [2256, 4393],\n",
       "       [5843,  811],\n",
       "       [ 258, 2439],\n",
       "       [2506, 8106],\n",
       "       [5076,  651],\n",
       "       [1648, 2865],\n",
       "       [8914, 6625],\n",
       "       [6311, 4550],\n",
       "       [1906, 2264],\n",
       "       [5461, 5933],\n",
       "       [ 827, 1006],\n",
       "       [6893, 4477],\n",
       "       [1799, 3779],\n",
       "       [8117,  952],\n",
       "       [6691, 8738],\n",
       "       [ 799,  567],\n",
       "       [2651, 4005],\n",
       "       [9628, 5841],\n",
       "       [6839, 3351],\n",
       "       [8208, 2130],\n",
       "       [5274, 5041],\n",
       "       [4522, 3382],\n",
       "       [5043, 8982],\n",
       "       [5911, 9999],\n",
       "       [8626,  486],\n",
       "       [9909, 9669],\n",
       "       [ 479, 4020],\n",
       "       [8337, 1997],\n",
       "       [1446, 4556],\n",
       "       [3663, 8496],\n",
       "       [9714, 1613],\n",
       "       [9332, 6421],\n",
       "       [1192, 2270],\n",
       "       [4646, 9689],\n",
       "       [ 331, 7741],\n",
       "       [9206, 6908],\n",
       "       [ 605, 5739],\n",
       "       [9723, 9461],\n",
       "       [3322, 4636],\n",
       "       [8214, 5636],\n",
       "       [ 726, 2889],\n",
       "       [9956, 1171],\n",
       "       [7950, 3123],\n",
       "       [7543, 4661],\n",
       "       [3922, 1336],\n",
       "       [7376, 8142],\n",
       "       [6909, 9229],\n",
       "       [9709, 5974],\n",
       "       [4277, 7163],\n",
       "       [2674, 1847],\n",
       "       [3754, 1706],\n",
       "       [3059, 9967],\n",
       "       [5599, 2763],\n",
       "       [6990, 9958],\n",
       "       [2566, 7593],\n",
       "       [1491, 4371],\n",
       "       [8460,  420],\n",
       "       [8317, 1571],\n",
       "       [ 506,  741],\n",
       "       [4579, 7327],\n",
       "       [1309, 5394],\n",
       "       [9479, 3768],\n",
       "       [7391, 3209],\n",
       "       [6446, 9762],\n",
       "       [4661, 8683],\n",
       "       [1174, 3495],\n",
       "       [8423, 6307],\n",
       "       [2712, 1716],\n",
       "       [ 640, 9875],\n",
       "       [4063, 3610],\n",
       "       [1879,  458],\n",
       "       [2105, 5273],\n",
       "       [2904, 4485],\n",
       "       [8445,  823],\n",
       "       [5756, 7600],\n",
       "       [8055, 3984],\n",
       "       [8875, 5540],\n",
       "       [4702, 3703],\n",
       "       [9300, 9357],\n",
       "       [5624, 7675],\n",
       "       [ 152, 2732],\n",
       "       [4686, 8319],\n",
       "       [7997, 7733],\n",
       "       [8655, 1732],\n",
       "       [6456, 9581],\n",
       "       [ 203, 1367],\n",
       "       [6835, 5316],\n",
       "       [4666, 6685],\n",
       "       [6685, 4751],\n",
       "       [4742, 7839],\n",
       "       [6690, 8619],\n",
       "       [8283, 5268],\n",
       "       [2837, 8836]])"
      ]
     },
     "execution_count": 47,
     "metadata": {},
     "output_type": "execute_result"
    }
   ],
   "source": [
    "a=np.random.randint(1,10000,(100,2))\n",
    "a"
   ]
  },
  {
   "cell_type": "code",
   "execution_count": 52,
   "id": "b13ac8bb",
   "metadata": {},
   "outputs": [
    {
     "name": "stdout",
     "output_type": "stream",
     "text": [
      "106 µs ± 4.49 µs per loop (mean ± std. dev. of 7 runs, 10,000 loops each)\n"
     ]
    }
   ],
   "source": [
    "z=range(1000)\n",
    "z\n",
    "\n",
    "%timeit [i//2 for i in z]"
   ]
  },
  {
   "cell_type": "code",
   "execution_count": 53,
   "id": "0487fb7f",
   "metadata": {},
   "outputs": [
    {
     "name": "stdout",
     "output_type": "stream",
     "text": [
      "3.59 µs ± 179 ns per loop (mean ± std. dev. of 7 runs, 100,000 loops each)\n"
     ]
    }
   ],
   "source": [
    "p=np.arange(1000)\n",
    "%timeit p//2"
   ]
  },
  {
   "cell_type": "code",
   "execution_count": null,
   "id": "162f1dd6",
   "metadata": {},
   "outputs": [],
   "source": []
  }
 ],
 "metadata": {
  "kernelspec": {
   "display_name": "Python 3 (ipykernel)",
   "language": "python",
   "name": "python3"
  },
  "language_info": {
   "codemirror_mode": {
    "name": "ipython",
    "version": 3
   },
   "file_extension": ".py",
   "mimetype": "text/x-python",
   "name": "python",
   "nbconvert_exporter": "python",
   "pygments_lexer": "ipython3",
   "version": "3.11.5"
  }
 },
 "nbformat": 4,
 "nbformat_minor": 5
}
