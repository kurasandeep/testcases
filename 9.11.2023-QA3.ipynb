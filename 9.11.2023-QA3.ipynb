{
 "cells": [
  {
   "cell_type": "code",
   "execution_count": 2,
   "metadata": {},
   "outputs": [],
   "source": [
    "# 1.write a program to check wheter the given number is in between 1 and 100?"
   ]
  },
  {
   "cell_type": "code",
   "execution_count": 10,
   "metadata": {},
   "outputs": [
    {
     "name": "stdout",
     "output_type": "stream",
     "text": [
      "5\n",
      "The number is in between 1 to 100\n"
     ]
    }
   ],
   "source": [
    "a=int(input())\n",
    "if a in range(1,100):\n",
    "    print(a)\n",
    "    print('The number is in between 1 to 100')\n",
    "else:\n",
    "    print(a)\n",
    "    print('The number is not in between 1 to 100')\n"
   ]
  },
  {
   "cell_type": "markdown",
   "metadata": {},
   "source": [
    "2. Write a program to take a single digit number from the key board and print is value in English word ?"
   ]
  },
  {
   "cell_type": "code",
   "execution_count": 16,
   "metadata": {},
   "outputs": [
    {
     "name": "stdout",
     "output_type": "stream",
     "text": [
      "five\n"
     ]
    }
   ],
   "source": [
    "\n",
    "a={'1':'one','2':'two','3':'Three','4':'four','5':'five','6':'six','7':'seven','8':'eight','9':'nine','0':'zero'}\n",
    "b=input()\n",
    "print(a[b])"
   ]
  },
  {
   "cell_type": "code",
   "execution_count": 18,
   "metadata": {},
   "outputs": [],
   "source": [
    "#3. Write a program to take a single digit number from the key board and print is value in English word ?"
   ]
  },
  {
   "cell_type": "markdown",
   "metadata": {},
   "source": []
  },
  {
   "cell_type": "code",
   "execution_count": 20,
   "metadata": {},
   "outputs": [
    {
     "name": "stdout",
     "output_type": "stream",
     "text": [
      "*\n",
      "**\n",
      "***\n",
      "****\n",
      "*****\n"
     ]
    }
   ],
   "source": [
    "a=int(input())\n",
    "b=1\n",
    "while a+1>b:\n",
    "    print('*'*b)\n",
    "    b=b+1\n"
   ]
  },
  {
   "cell_type": "markdown",
   "metadata": {},
   "source": [
    "4. (Alternate Way) - While – Loop : (Write a program to display *’s in right Angled Triangled Form ?"
   ]
  },
  {
   "cell_type": "code",
   "execution_count": 21,
   "metadata": {},
   "outputs": [
    {
     "name": "stdout",
     "output_type": "stream",
     "text": [
      "     *\n",
      "    **\n",
      "   ***\n",
      "  ****\n",
      " *****\n"
     ]
    }
   ],
   "source": [
    "a=int(input())\n",
    "b=1\n",
    "while a+1>b:\n",
    "    c=a-b\n",
    "    print(' '*c,'*'*b)\n",
    "    b=b+1\n"
   ]
  },
  {
   "cell_type": "markdown",
   "metadata": {},
   "source": [
    "5. Write a program to display *’s in pyramid style (Also known as Quivalent Triangle) ?"
   ]
  },
  {
   "cell_type": "code",
   "execution_count": 22,
   "metadata": {},
   "outputs": [
    {
     "name": "stdout",
     "output_type": "stream",
     "text": [
      "     *\n",
      "    ***\n",
      "   *****\n",
      "  *******\n",
      " *********\n"
     ]
    }
   ],
   "source": [
    "a=int(input())\n",
    "b=1\n",
    "while a+1>b:\n",
    "    c=a-b\n",
    "    if b==1:\n",
    "        print(' '*c,'*'*b,)\n",
    "    if b>1:\n",
    "        print(' '*c,'*'*b+'*'*(b-1))\n",
    "        \n",
    "    b=b+1"
   ]
  },
  {
   "cell_type": "markdown",
   "metadata": {},
   "source": [
    "6. How to Exit from the Loop ?\n"
   ]
  },
  {
   "cell_type": "markdown",
   "metadata": {},
   "source": [
    "By using 'break' we can exit the loop.\n",
    "\n"
   ]
  },
  {
   "cell_type": "markdown",
   "metadata": {},
   "source": [
    "7. How to Skip some iterations inside loop ?"
   ]
  },
  {
   "cell_type": "markdown",
   "metadata": {},
   "source": [
    "By using 'continue' we can skip some iterations inside the loop.\n"
   ]
  },
  {
   "cell_type": "markdown",
   "metadata": {},
   "source": [
    "8. When else part will be executed wrt loops ?"
   ]
  },
  {
   "cell_type": "markdown",
   "metadata": {},
   "source": [
    "When the if and elif is not executed then only the else part will be executed. In else part we no need to give any conditions.\n"
   ]
  },
  {
   "cell_type": "markdown",
   "metadata": {},
   "source": [
    "9. Write a program to access each character of string in Forward and Backward Direction by using while loop ?"
   ]
  },
  {
   "cell_type": "code",
   "execution_count": 24,
   "metadata": {},
   "outputs": [
    {
     "name": "stdout",
     "output_type": "stream",
     "text": [
      "s   p\n",
      "a   e\n",
      "n   e\n",
      "d   d\n",
      "e   n\n",
      "e   a\n",
      "p   s\n"
     ]
    }
   ],
   "source": [
    "a=input()\n",
    "b=0\n",
    "while b<len(a):\n",
    "    print(a[b],' ',a[-(b+1)])\n",
    "    #print(a[-(b+1)])\n",
    "    b=b+1\n"
   ]
  },
  {
   "cell_type": "markdown",
   "metadata": {},
   "source": [
    "10. How to remove spaces from the string ? (rstrip(),lstrip(),strip())"
   ]
  },
  {
   "cell_type": "code",
   "execution_count": 25,
   "metadata": {},
   "outputs": [
    {
     "name": "stdout",
     "output_type": "stream",
     "text": [
      ".Remove spaces from the string.\n",
      ".    Remove spaces from the string.\n",
      ".Remove spaces from the string         .\n"
     ]
    }
   ],
   "source": [
    "a='    Remove spaces from the string         '\n",
    "print('.'+a.strip()+'.')\n",
    "print('.'+a.rstrip()+'.')\n",
    "print('.'+a.lstrip()+'.')"
   ]
  },
  {
   "cell_type": "code",
   "execution_count": null,
   "metadata": {},
   "outputs": [],
   "source": []
  }
 ],
 "metadata": {
  "kernelspec": {
   "display_name": "Python 3",
   "language": "python",
   "name": "python3"
  },
  "language_info": {
   "codemirror_mode": {
    "name": "ipython",
    "version": 3
   },
   "file_extension": ".py",
   "mimetype": "text/x-python",
   "name": "python",
   "nbconvert_exporter": "python",
   "pygments_lexer": "ipython3",
   "version": "3.10.11"
  }
 },
 "nbformat": 4,
 "nbformat_minor": 2
}
