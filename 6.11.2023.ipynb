{
  "nbformat": 4,
  "nbformat_minor": 0,
  "metadata": {
    "colab": {
      "provenance": []
    },
    "kernelspec": {
      "name": "python3",
      "display_name": "Python 3"
    },
    "language_info": {
      "name": "python"
    }
  },
  "cells": [
    {
      "cell_type": "code",
      "execution_count": 14,
      "metadata": {
        "colab": {
          "base_uri": "https://localhost:8080/"
        },
        "id": "YLtfjryz7gcr",
        "outputId": "0d2114f8-830a-437e-8b72-7b8872819ebd"
      },
      "outputs": [
        {
          "output_type": "stream",
          "name": "stdout",
          "text": [
            "red\n",
            "blue\n"
          ]
        }
      ],
      "source": [
        "a=[\"red\",\"blue\",\"green\",\"blue\",\"yellow\",\"red\"]\n",
        "b=set(a)\n",
        "b=list(b)\n",
        "for i in b:\n",
        "  c=a.count(i)\n",
        "  if c==2:\n",
        "    print(i)"
      ]
    },
    {
      "cell_type": "code",
      "source": [
        "lis=[12,51,23,78,92,65]\n",
        "var=max(lis)\n",
        "print(var)"
      ],
      "metadata": {
        "colab": {
          "base_uri": "https://localhost:8080/"
        },
        "id": "wi_ShG3F9mf1",
        "outputId": "dc74b8ac-d270-458b-d2ce-1daa8d117f25"
      },
      "execution_count": 19,
      "outputs": [
        {
          "output_type": "stream",
          "name": "stdout",
          "text": [
            "92\n"
          ]
        }
      ]
    },
    {
      "cell_type": "code",
      "source": [
        "a=[22,15,63,45,15,81,22,12]\n",
        "b=set(a)\n",
        "b=list(b)\n",
        "\n",
        "for x in b:\n",
        "  c=a.count(x)\n",
        "  if c==2:\n",
        "    print(x)\n",
        "\n",
        "\n"
      ],
      "metadata": {
        "colab": {
          "base_uri": "https://localhost:8080/"
        },
        "id": "lLQ9Ualq-YvO",
        "outputId": "8a990b74-3d30-482d-c120-ac6fc6e89f7d"
      },
      "execution_count": 26,
      "outputs": [
        {
          "output_type": "stream",
          "name": "stdout",
          "text": [
            "15\n",
            "22\n"
          ]
        }
      ]
    },
    {
      "cell_type": "code",
      "source": [
        "lst=[22,50,80,20,46,5]\n",
        "for x in lst:\n",
        "  if x %10==0:\n",
        "    print(x)"
      ],
      "metadata": {
        "colab": {
          "base_uri": "https://localhost:8080/"
        },
        "id": "SGC6sh3ODMlZ",
        "outputId": "35493207-1405-4b00-dbbe-f1b4f8a9a6e4"
      },
      "execution_count": 33,
      "outputs": [
        {
          "output_type": "stream",
          "name": "stdout",
          "text": [
            "50\n",
            "80\n",
            "20\n"
          ]
        }
      ]
    },
    {
      "cell_type": "code",
      "source": [
        "a=input()\n",
        "\n",
        "\n",
        "if a[::-1]==a:\n",
        "    print('palindrome')\n",
        "else:\n",
        "    print('not a palindrome')"
      ],
      "metadata": {
        "colab": {
          "base_uri": "https://localhost:8080/"
        },
        "id": "-60FnYhNFAkD",
        "outputId": "59dae5ee-98a7-437e-f42f-c1906042f60c"
      },
      "execution_count": 34,
      "outputs": [
        {
          "output_type": "stream",
          "name": "stdout",
          "text": [
            "aza\n",
            "palindrome\n"
          ]
        }
      ]
    },
    {
      "cell_type": "code",
      "source": [
        "a='SMASH'\n",
        "b='FLASH'\n",
        "c=[]\n",
        "for i in a:\n",
        "    if i in b:\n",
        "        c.append(i)\n",
        "print(set(c))"
      ],
      "metadata": {
        "colab": {
          "base_uri": "https://localhost:8080/"
        },
        "id": "QzdaAGqIJGGa",
        "outputId": "5708ec2a-934a-4334-e9f9-17884737de46"
      },
      "execution_count": 35,
      "outputs": [
        {
          "output_type": "stream",
          "name": "stdout",
          "text": [
            "{'A', 'H', 'S'}\n"
          ]
        }
      ]
    },
    {
      "cell_type": "code",
      "source": [
        "a=\"YOU LEARN MORE FROM FAILUR THAN FROM SUCCEES\"\n",
        "b=a.count('a')\n",
        "c=a.count('e')\n",
        "d=a.count('i')\n",
        "e=a.count('o')\n",
        "f=a.count('u')\n",
        "g=a.count('A')\n",
        "h=a.count('E')\n",
        "i=a.count('I')\n",
        "j=a.count('O')\n",
        "k=a.count('U')\n",
        "print(b+c+d+e+f+g+h+i+j+k)\n"
      ],
      "metadata": {
        "colab": {
          "base_uri": "https://localhost:8080/"
        },
        "id": "vSWcKIl9NgJp",
        "outputId": "8f67e44f-ca98-4d2a-8697-22d5949199b7"
      },
      "execution_count": 36,
      "outputs": [
        {
          "output_type": "stream",
          "name": "stdout",
          "text": [
            "15\n"
          ]
        }
      ]
    },
    {
      "cell_type": "code",
      "source": [],
      "metadata": {
        "id": "CFPPP3IIOguL"
      },
      "execution_count": null,
      "outputs": []
    }
  ]
}